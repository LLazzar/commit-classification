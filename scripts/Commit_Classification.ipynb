{
 "cells": [
  {
   "cell_type": "markdown",
   "id": "a2deadcc",
   "metadata": {},
   "source": [
    "<a id='commit_classification'></a>\n",
    "# Commit Classification"
   ]
  },
  {
   "cell_type": "markdown",
   "id": "0682ecc5",
   "metadata": {},
   "source": [
    "`Subject` **`\"Software Commits\"`** : In version control systems (github, gitlab..), a commit is an operation which sends the latest <u>changes of the source code</u> to the repository. Each commit is sent together with a <u>commit message which is text</u> written by the submitter gerally in common language/english <br />\n",
    "\n",
    "`Aim` **`\"Classification\"`**: Building and evaluating models that can predict with confidence <u>what macro-type</u> of change is making a commit to the software, based on the commit message. Choosing the best one. <br />\n",
    "\n",
    "`Starting Point/Input` **`\"Labelled Dataset Sample\"`** A unified dataset build on info gathered from three different trusted sources that labeled the data using the expertise of experienced developers. Neither in the literature nor in the three sources considered there is common consensus regarding the macro-types to which a commit could be classified into. For the unified dataset were used <u>five different classes</u>:<br /> \n",
    "> - Corrective: related to fault fixing\n",
    "> - Features: introduction of new features\n",
    "> - Non Functional: documents and non-functional requirements\n",
    "> - Perfective: system improvements\n",
    "> - Unknown: genrally for files that are created by VSC systems\n",
    "\n",
    "`ML task` **`\"Supervised Learning\"`** Learn model parameters based on the labelled dataset we got"
   ]
  },
  {
   "cell_type": "markdown",
   "id": "09c010b7",
   "metadata": {},
   "source": [
    "<br />"
   ]
  },
  {
   "cell_type": "markdown",
   "id": "431a0928",
   "metadata": {},
   "source": [
    "`Why`: Software commits play a crucial role in VCS by allowing collaborative development of source code and keeping track of its history. Especially when <u>many different developers</u> work on the same repo things can become more and more chaotic. Previous studies reveal that much time is spent in <u>identifying and prioritizing critical issues</u> and respective commits. For example, dealing with issues like bug introduction go through understanding what a commit is doing to the source code to find its <u>probability of entering bugs</u>. Tools that helps categorizing commits can really help and smooth this resource-demanding process in software development."
   ]
  },
  {
   "cell_type": "markdown",
   "id": "2fb510ad",
   "metadata": {},
   "source": [
    "____"
   ]
  },
  {
   "cell_type": "markdown",
   "id": "2ad27196",
   "metadata": {},
   "source": [
    "## Table of contents:\n",
    "\n",
    "+ [Commit classification](#commit_classification)\n",
    "+ [Preliminary steps](#preliminary_steps)\n",
    "    * [Load dataset](#load_dataset)\n",
    "    * [Classes Distribution](#class_distr)\n",
    "    * [Preprocessing text](#preprocess)\n",
    "    * [Splitting in Train and Test](#split)\n",
    "\n",
    "+ [Classic models](#classic_models)\n",
    "    * [Feature Extraction by TF-IDF](#feat_extr)\n",
    "    * [Classification Baseline Models Definition](#models)\n",
    "    * [Logit tuning](#logit_tuning)\n",
    "    * [Logit final evaluation](#logit_final_ev)\n",
    "\n",
    "+ [Fasttext model](#fasttext)\n",
    "\n",
    "+ [Observations](#observations)"
   ]
  },
  {
   "cell_type": "markdown",
   "id": "8b6a62c2",
   "metadata": {},
   "source": [
    "<a id='preliminary_steps'></a>\n",
    "# Preliminary steps"
   ]
  },
  {
   "cell_type": "markdown",
   "id": "4b0fbaed",
   "metadata": {},
   "source": [
    "<a id='load_dataset'></a>\n",
    "## Load dataset"
   ]
  },
  {
   "cell_type": "markdown",
   "id": "661589a2",
   "metadata": {},
   "source": [
    "Encoding set to \"utf-8\" (default is ASCII) and dataset stored in data as a single unique string"
   ]
  },
  {
   "cell_type": "code",
   "execution_count": 1,
   "id": "cba47c00",
   "metadata": {},
   "outputs": [],
   "source": [
    "with open(\"../data/commits-labeled.txt\", 'r', encoding=\"utf-8\") as f:\n",
    "    data=f.read()"
   ]
  },
  {
   "cell_type": "markdown",
   "id": "6520032c",
   "metadata": {},
   "source": [
    "Getting messages and relatives labels"
   ]
  },
  {
   "cell_type": "code",
   "execution_count": 2,
   "id": "ad468f6a",
   "metadata": {},
   "outputs": [],
   "source": [
    "labels=[]\n",
    "messages=[]\n",
    "\n",
    "import re\n",
    "\n",
    "split=re.split('(__label__nonfunctional|__label__corrective|__label__unknown|__label__features|__label__perfective)', data)\n",
    "\n",
    "for line in split:\n",
    "    if line=='__label__nonfunctional' or line=='__label__corrective' or line=='__label__unknown' or line=='__label__features' or line=='__label__perfective':\n",
    "        labels.append(line.replace(\"__label__\",\"\")) #extracting label and eliminating \"___label___\"\n",
    "        split.remove(line) #removing label\n",
    "\n",
    "split.pop(0); #removing header\n",
    "\n",
    "messages=split"
   ]
  },
  {
   "cell_type": "markdown",
   "id": "94b3d837",
   "metadata": {},
   "source": [
    "Creating a pandas dataframe object to organize the data"
   ]
  },
  {
   "cell_type": "code",
   "execution_count": 3,
   "id": "1d83cb77",
   "metadata": {},
   "outputs": [
    {
     "data": {
      "text/html": [
       "<div>\n",
       "<style scoped>\n",
       "    .dataframe tbody tr th:only-of-type {\n",
       "        vertical-align: middle;\n",
       "    }\n",
       "\n",
       "    .dataframe tbody tr th {\n",
       "        vertical-align: top;\n",
       "    }\n",
       "\n",
       "    .dataframe thead th {\n",
       "        text-align: right;\n",
       "    }\n",
       "</style>\n",
       "<table border=\"1\" class=\"dataframe\">\n",
       "  <thead>\n",
       "    <tr style=\"text-align: right;\">\n",
       "      <th></th>\n",
       "      <th>Labels</th>\n",
       "      <th>Messages</th>\n",
       "    </tr>\n",
       "  </thead>\n",
       "  <tbody>\n",
       "    <tr>\n",
       "      <th>0</th>\n",
       "      <td>perfective</td>\n",
       "      <td>Add marble diagrams for Single operators.--\\n</td>\n",
       "    </tr>\n",
       "    <tr>\n",
       "      <th>1</th>\n",
       "      <td>perfective</td>\n",
       "      <td>Change hasException to hasThrowable--\\n</td>\n",
       "    </tr>\n",
       "    <tr>\n",
       "      <th>2</th>\n",
       "      <td>features</td>\n",
       "      <td>Trying to extend the Scheduler interface acco...</td>\n",
       "    </tr>\n",
       "    <tr>\n",
       "      <th>3</th>\n",
       "      <td>features</td>\n",
       "      <td>RunAsync method for outputting multiple value...</td>\n",
       "    </tr>\n",
       "    <tr>\n",
       "      <th>4</th>\n",
       "      <td>corrective</td>\n",
       "      <td>forEach with Action1 but not Observer--I re-r...</td>\n",
       "    </tr>\n",
       "    <tr>\n",
       "      <th>5</th>\n",
       "      <td>perfective</td>\n",
       "      <td>Extract UnsubscribeTester to top level--\\n</td>\n",
       "    </tr>\n",
       "    <tr>\n",
       "      <th>6</th>\n",
       "      <td>perfective</td>\n",
       "      <td>Some cleaning up--\\n</td>\n",
       "    </tr>\n",
       "    <tr>\n",
       "      <th>7</th>\n",
       "      <td>corrective</td>\n",
       "      <td>Trying to fix non-deterministic test--- not s...</td>\n",
       "    </tr>\n",
       "    <tr>\n",
       "      <th>8</th>\n",
       "      <td>corrective</td>\n",
       "      <td>1.x: Fix Completable swallows- OnErrorNotImpl...</td>\n",
       "    </tr>\n",
       "    <tr>\n",
       "      <th>9</th>\n",
       "      <td>corrective</td>\n",
       "      <td>Fix unit test after last() changed behavior--\\n</td>\n",
       "    </tr>\n",
       "  </tbody>\n",
       "</table>\n",
       "</div>"
      ],
      "text/plain": [
       "       Labels                                           Messages\n",
       "0  perfective      Add marble diagrams for Single operators.--\\n\n",
       "1  perfective            Change hasException to hasThrowable--\\n\n",
       "2    features   Trying to extend the Scheduler interface acco...\n",
       "3    features   RunAsync method for outputting multiple value...\n",
       "4  corrective   forEach with Action1 but not Observer--I re-r...\n",
       "5  perfective         Extract UnsubscribeTester to top level--\\n\n",
       "6  perfective                               Some cleaning up--\\n\n",
       "7  corrective   Trying to fix non-deterministic test--- not s...\n",
       "8  corrective   1.x: Fix Completable swallows- OnErrorNotImpl...\n",
       "9  corrective    Fix unit test after last() changed behavior--\\n"
      ]
     },
     "execution_count": 3,
     "metadata": {},
     "output_type": "execute_result"
    }
   ],
   "source": [
    "import pandas as pd\n",
    "\n",
    "df=pd.DataFrame()\n",
    "df['Labels']=labels\n",
    "df['Messages']=messages\n",
    "\n",
    "df.head(10)"
   ]
  },
  {
   "cell_type": "code",
   "execution_count": 4,
   "id": "bebe30d3",
   "metadata": {},
   "outputs": [
    {
     "data": {
      "text/plain": [
       "4528"
      ]
     },
     "execution_count": 4,
     "metadata": {},
     "output_type": "execute_result"
    }
   ],
   "source": [
    "df.shape[0]"
   ]
  },
  {
   "cell_type": "markdown",
   "id": "c3278e49",
   "metadata": {},
   "source": [
    "Our dataset consist in a sample of 4528 observations"
   ]
  },
  {
   "cell_type": "markdown",
   "id": "ad8ef687",
   "metadata": {},
   "source": [
    "<a id='class_distr'></a>\n",
    "## Classes Distribution\n"
   ]
  },
  {
   "cell_type": "markdown",
   "id": "a70d67d5",
   "metadata": {},
   "source": [
    "The number of labels per messages imbalanced. We have a significant higher relative count of commits labeled as corrective."
   ]
  },
  {
   "cell_type": "code",
   "execution_count": 5,
   "id": "92163f91",
   "metadata": {},
   "outputs": [
    {
     "data": {
      "image/png": "[encoded data removed]",
      "text/plain": [
       "<Figure size 432x288 with 1 Axes>"
      ]
     },
     "metadata": {
      "needs_background": "light"
     },
     "output_type": "display_data"
    }
   ],
   "source": [
    "import seaborn as sns\n",
    "import matplotlib.pyplot as plt\n",
    "\n",
    "sns.countplot(x=\"Labels\", data=df,order = df['Labels'].value_counts().index, palette=\"crest\")\n",
    "plt.savefig('../figures/labelled_dataset_distribution', dpi=300)"
   ]
  },
  {
   "cell_type": "markdown",
   "id": "6d50fd3e",
   "metadata": {},
   "source": [
    "The problem could be addressed by taking F-measure as accuracy measure and by the correct application of the cross-validation process. "
   ]
  },
  {
   "cell_type": "markdown",
   "id": "c3862b14",
   "metadata": {},
   "source": [
    "<a id='preprocess'></a>\n",
    "## Preprocessing text"
   ]
  },
  {
   "cell_type": "markdown",
   "id": "d1df23a7",
   "metadata": {},
   "source": [
    "The text in the commit messagges could be full of inconsistencies and ambiguities, so it's time to work a little bit on text preprocessing in order to get clean messages that retains all the useful informations contained in the original text but free of non-significant noise. \n",
    "It helps to create for features for the text messages later."
   ]
  },
  {
   "cell_type": "markdown",
   "id": "d004a5f1",
   "metadata": {},
   "source": [
    "Process applied:\n",
    "> - Lower-casing: coverting all the text in the lower-case. It is helpful in text featurization techniques like term frequency, TFIDF since it prevents duplication of same words having different casing.\n",
    "> - Removing stopwords: removing trivial words like “I”, \"if\", \"a\", “the”, “you”, etc. that appear so frequently in the text that they may distort many NLP operations without adding much valuable information.\n",
    "> - General cleaning: keeping only alphabets, digits and certain words (punctuations, qmarks, tabs etc. are removed)\n",
    "> - Lemmatization: converting the word to its base form or lemma (ex: run, ran, runs --> run)"
   ]
  },
  {
   "cell_type": "code",
   "execution_count": 6,
   "id": "c2688481",
   "metadata": {
    "scrolled": true
   },
   "outputs": [
    {
     "name": "stderr",
     "output_type": "stream",
     "text": [
      "[nltk_data] Downloading package stopwords to\n",
      "[nltk_data]     C:\\Users\\User\\AppData\\Roaming\\nltk_data...\n",
      "[nltk_data]   Package stopwords is already up-to-date!\n",
      "[nltk_data] Downloading package wordnet to\n",
      "[nltk_data]     C:\\Users\\User\\AppData\\Roaming\\nltk_data...\n",
      "[nltk_data]   Package wordnet is already up-to-date!\n"
     ]
    }
   ],
   "source": [
    "%run ../scripts/text_data_preprocessing.ipynb"
   ]
  },
  {
   "cell_type": "code",
   "execution_count": 7,
   "id": "0927001c",
   "metadata": {},
   "outputs": [
    {
     "data": {
      "text/html": [
       "<div>\n",
       "<style scoped>\n",
       "    .dataframe tbody tr th:only-of-type {\n",
       "        vertical-align: middle;\n",
       "    }\n",
       "\n",
       "    .dataframe tbody tr th {\n",
       "        vertical-align: top;\n",
       "    }\n",
       "\n",
       "    .dataframe thead th {\n",
       "        text-align: right;\n",
       "    }\n",
       "</style>\n",
       "<table border=\"1\" class=\"dataframe\">\n",
       "  <thead>\n",
       "    <tr style=\"text-align: right;\">\n",
       "      <th></th>\n",
       "      <th>Labels</th>\n",
       "      <th>Messages</th>\n",
       "      <th>Clean Messages</th>\n",
       "    </tr>\n",
       "  </thead>\n",
       "  <tbody>\n",
       "    <tr>\n",
       "      <th>0</th>\n",
       "      <td>perfective</td>\n",
       "      <td>Add marble diagrams for Single operators.--\\n</td>\n",
       "      <td>add marble diagram single operators</td>\n",
       "    </tr>\n",
       "    <tr>\n",
       "      <th>1</th>\n",
       "      <td>perfective</td>\n",
       "      <td>Change hasException to hasThrowable--\\n</td>\n",
       "      <td>change hasexception hasthrowable</td>\n",
       "    </tr>\n",
       "    <tr>\n",
       "      <th>2</th>\n",
       "      <td>features</td>\n",
       "      <td>Trying to extend the Scheduler interface acco...</td>\n",
       "      <td>try extend scheduler interface accord comment 19</td>\n",
       "    </tr>\n",
       "    <tr>\n",
       "      <th>3</th>\n",
       "      <td>features</td>\n",
       "      <td>RunAsync method for outputting multiple value...</td>\n",
       "      <td>runasync method output multiple value</td>\n",
       "    </tr>\n",
       "    <tr>\n",
       "      <th>4</th>\n",
       "      <td>corrective</td>\n",
       "      <td>forEach with Action1 but not Observer--I re-r...</td>\n",
       "      <td>foreach action1 observer read msdn docs find p...</td>\n",
       "    </tr>\n",
       "    <tr>\n",
       "      <th>...</th>\n",
       "      <td>...</td>\n",
       "      <td>...</td>\n",
       "      <td>...</td>\n",
       "    </tr>\n",
       "    <tr>\n",
       "      <th>1045</th>\n",
       "      <td>corrective</td>\n",
       "      <td>CAMEL-1078.  Fix potential NPE.--git-svn-id: ...</td>\n",
       "      <td>camel 1078 fix potential npe git svn id https ...</td>\n",
       "    </tr>\n",
       "    <tr>\n",
       "      <th>1046</th>\n",
       "      <td>perfective</td>\n",
       "      <td>CAMEL-1134 make the ZipDataFormat Stream frie...</td>\n",
       "      <td>camel 1134 make zipdataformat stream friendly ...</td>\n",
       "    </tr>\n",
       "    <tr>\n",
       "      <th>1047</th>\n",
       "      <td>perfective</td>\n",
       "      <td>tidied up some of the default JMS configurati...</td>\n",
       "      <td>tidy default jms configurations detail see htt...</td>\n",
       "    </tr>\n",
       "    <tr>\n",
       "      <th>1048</th>\n",
       "      <td>perfective</td>\n",
       "      <td>Polished code--git-svn-id: https://svn.apache...</td>\n",
       "      <td>polish code git svn id https svn apache org re...</td>\n",
       "    </tr>\n",
       "    <tr>\n",
       "      <th>1049</th>\n",
       "      <td>perfective</td>\n",
       "      <td>Added some logs for debuging--git-svn-id: htt...</td>\n",
       "      <td>add log debug git svn id https svn apache org ...</td>\n",
       "    </tr>\n",
       "  </tbody>\n",
       "</table>\n",
       "<p>1050 rows × 3 columns</p>\n",
       "</div>"
      ],
      "text/plain": [
       "          Labels                                           Messages  \\\n",
       "0     perfective      Add marble diagrams for Single operators.--\\n   \n",
       "1     perfective            Change hasException to hasThrowable--\\n   \n",
       "2       features   Trying to extend the Scheduler interface acco...   \n",
       "3       features   RunAsync method for outputting multiple value...   \n",
       "4     corrective   forEach with Action1 but not Observer--I re-r...   \n",
       "...          ...                                                ...   \n",
       "1045  corrective   CAMEL-1078.  Fix potential NPE.--git-svn-id: ...   \n",
       "1046  perfective   CAMEL-1134 make the ZipDataFormat Stream frie...   \n",
       "1047  perfective   tidied up some of the default JMS configurati...   \n",
       "1048  perfective   Polished code--git-svn-id: https://svn.apache...   \n",
       "1049  perfective   Added some logs for debuging--git-svn-id: htt...   \n",
       "\n",
       "                                         Clean Messages  \n",
       "0                   add marble diagram single operators  \n",
       "1                      change hasexception hasthrowable  \n",
       "2      try extend scheduler interface accord comment 19  \n",
       "3                 runasync method output multiple value  \n",
       "4     foreach action1 observer read msdn docs find p...  \n",
       "...                                                 ...  \n",
       "1045  camel 1078 fix potential npe git svn id https ...  \n",
       "1046  camel 1134 make zipdataformat stream friendly ...  \n",
       "1047  tidy default jms configurations detail see htt...  \n",
       "1048  polish code git svn id https svn apache org re...  \n",
       "1049  add log debug git svn id https svn apache org ...  \n",
       "\n",
       "[1050 rows x 3 columns]"
      ]
     },
     "execution_count": 7,
     "metadata": {},
     "output_type": "execute_result"
    }
   ],
   "source": [
    "norm_corpus = preprocess(df['Messages'], cleaning = True, stemming = False, stem_type = None, \n",
    "                         lemmatization = True, remove_stopwords = True)\n",
    "df['Clean Messages'] = norm_corpus\n",
    "# view sample data\n",
    "df.head(1050)\n"
   ]
  },
  {
   "cell_type": "markdown",
   "id": "bbbfa982",
   "metadata": {},
   "source": [
    "<a id='split'></a>\n",
    "## Splitting in Train and Test"
   ]
  },
  {
   "cell_type": "markdown",
   "id": "9792e9f2",
   "metadata": {},
   "source": [
    "- `Training dataset` to train and pre-evaluate the models (thought K-fold-cross-validation)\n",
    "- `Test dataset` only to test and make a final evaluation of the model \n",
    "\n",
    "A 20% of the observations from the whole dataset was taken to build the `Test dataset`"
   ]
  },
  {
   "cell_type": "code",
   "execution_count": 8,
   "id": "a84d9e64",
   "metadata": {},
   "outputs": [],
   "source": [
    "import numpy as np\n",
    "from sklearn.model_selection import train_test_split\n",
    "\n",
    "x_train, x_test, y_train, y_test = train_test_split(df['Clean Messages'].tolist(), df['Labels'].tolist(), test_size=0.2, random_state=4)"
   ]
  },
  {
   "cell_type": "code",
   "execution_count": 9,
   "id": "aa30a1e1",
   "metadata": {},
   "outputs": [
    {
     "data": {
      "text/plain": [
       "(3622, 906)"
      ]
     },
     "execution_count": 9,
     "metadata": {},
     "output_type": "execute_result"
    }
   ],
   "source": [
    "len(x_train), len(x_test)"
   ]
  },
  {
   "cell_type": "markdown",
   "id": "6874bdf4",
   "metadata": {},
   "source": [
    "We obtain a total of 3622 samples for the training dataset and 906 samples for the test dataset"
   ]
  },
  {
   "cell_type": "markdown",
   "id": "750947e4",
   "metadata": {},
   "source": [
    "<a id='classic_models'></a>\n",
    "# Classic models"
   ]
  },
  {
   "cell_type": "markdown",
   "id": "0b3e37d3",
   "metadata": {},
   "source": [
    "<a id='feat_extr'></a>\n",
    "## Feature Extraction by TF-IDF"
   ]
  },
  {
   "cell_type": "markdown",
   "id": "0059eb49",
   "metadata": {},
   "source": [
    "Classifier and algorithms need to be fed with a numerical feature vector of fixed lenght for each document/message instead of the raw text. \n",
    "\n",
    "TF-IDF is used as feature extraction technique.\n",
    "It combines two metrics:\n",
    "+ TF (Term frequency): how many times a word appears in a document\n",
    "+ IDF (Inverse Document frequency): how many times the word appears in other documnent.\n",
    "\n",
    "For a certain word in a document the defined function goes up proportionally as the number of appearances in that document increase and goes down proportionally as the number of its appearances in the other documents increase.\n",
    "\n",
    "The idea of this beahaviour of the measure is to give more importance to the terms that appear in the document, but in general are less frequent."
   ]
  },
  {
   "cell_type": "code",
   "execution_count": 10,
   "id": "ce489693",
   "metadata": {},
   "outputs": [],
   "source": [
    "from sklearn.feature_extraction.text import TfidfVectorizer\n",
    "\n",
    "text_transformer = TfidfVectorizer(ngram_range=(1,2),lowercase=True, max_features=5000) #getting the top 5000 features\n",
    "x_vect_train = text_transformer.fit_transform(x_train) #fitting the text transformer on the training dataset and vectoring the training dataset\n",
    "x_test_vect = text_transformer.transform(x_test) #vectorize the test dataset"
   ]
  },
  {
   "cell_type": "code",
   "execution_count": 11,
   "id": "a198b753",
   "metadata": {},
   "outputs": [
    {
     "data": {
      "text/plain": [
       "<3622x5000 sparse matrix of type '<class 'numpy.float64'>'\n",
       "\twith 44938 stored elements in Compressed Sparse Row format>"
      ]
     },
     "execution_count": 11,
     "metadata": {},
     "output_type": "execute_result"
    }
   ],
   "source": [
    "x_vect_train"
   ]
  },
  {
   "cell_type": "markdown",
   "id": "df7f32be",
   "metadata": {},
   "source": [
    "Each of 3622 commit messages is now represented by 5000 features.\n",
    "\n",
    "Every feature represent the tf-idf score for every unigrams and bigrams created (top 5000)."
   ]
  },
  {
   "cell_type": "markdown",
   "id": "b8ad3e71",
   "metadata": {},
   "source": [
    "Saving the vectorizer:"
   ]
  },
  {
   "cell_type": "code",
   "execution_count": 12,
   "id": "d7e5033b",
   "metadata": {},
   "outputs": [],
   "source": [
    "import pickle\n",
    "\n",
    "with open('../results/vectorizer.pkl', 'wb') as fid:\n",
    "    pickle.dump(text_transformer, fid)"
   ]
  },
  {
   "cell_type": "markdown",
   "id": "6a084e80",
   "metadata": {},
   "source": [
    "#### Now getting the most correleted terms per class (label)"
   ]
  },
  {
   "cell_type": "markdown",
   "id": "b046db84",
   "metadata": {},
   "source": [
    "Computing chi-squared stats between each non-negative feature and relative label/class. <br />\n",
    "Aim: what are the most representative unigrams and bigrams for each label?"
   ]
  },
  {
   "cell_type": "code",
   "execution_count": 13,
   "id": "8a6e4ab5",
   "metadata": {
    "scrolled": false
   },
   "outputs": [
    {
     "data": {
      "text/html": [
       "<div>\n",
       "<style scoped>\n",
       "    .dataframe tbody tr th:only-of-type {\n",
       "        vertical-align: middle;\n",
       "    }\n",
       "\n",
       "    .dataframe tbody tr th {\n",
       "        vertical-align: top;\n",
       "    }\n",
       "\n",
       "    .dataframe thead th {\n",
       "        text-align: right;\n",
       "    }\n",
       "</style>\n",
       "<table border=\"1\" class=\"dataframe\">\n",
       "  <thead>\n",
       "    <tr style=\"text-align: right;\">\n",
       "      <th></th>\n",
       "      <th>Labels</th>\n",
       "      <th>Unigrams</th>\n",
       "      <th>Bigrams</th>\n",
       "    </tr>\n",
       "  </thead>\n",
       "  <tbody>\n",
       "    <tr>\n",
       "      <th>0</th>\n",
       "      <td>corrective</td>\n",
       "      <td>[bug, fix]</td>\n",
       "      <td>[improve performance, fix bug]</td>\n",
       "    </tr>\n",
       "    <tr>\n",
       "      <th>1</th>\n",
       "      <td>features</td>\n",
       "      <td>[add, feature]</td>\n",
       "      <td>[add feature, new feature]</td>\n",
       "    </tr>\n",
       "    <tr>\n",
       "      <th>2</th>\n",
       "      <td>perfective</td>\n",
       "      <td>[design, structure]</td>\n",
       "      <td>[structure refactoring, package structure]</td>\n",
       "    </tr>\n",
       "    <tr>\n",
       "      <th>3</th>\n",
       "      <td>nonfunctional</td>\n",
       "      <td>[improve, performance]</td>\n",
       "      <td>[performance improvements, improve performance]</td>\n",
       "    </tr>\n",
       "    <tr>\n",
       "      <th>4</th>\n",
       "      <td>unknown</td>\n",
       "      <td>[remove, duplicate]</td>\n",
       "      <td>[duplicate code, remove duplicate]</td>\n",
       "    </tr>\n",
       "  </tbody>\n",
       "</table>\n",
       "</div>"
      ],
      "text/plain": [
       "          Labels                Unigrams  \\\n",
       "0     corrective              [bug, fix]   \n",
       "1       features          [add, feature]   \n",
       "2     perfective     [design, structure]   \n",
       "3  nonfunctional  [improve, performance]   \n",
       "4        unknown     [remove, duplicate]   \n",
       "\n",
       "                                           Bigrams  \n",
       "0                   [improve performance, fix bug]  \n",
       "1                       [add feature, new feature]  \n",
       "2       [structure refactoring, package structure]  \n",
       "3  [performance improvements, improve performance]  \n",
       "4               [duplicate code, remove duplicate]  "
      ]
     },
     "execution_count": 13,
     "metadata": {},
     "output_type": "execute_result"
    }
   ],
   "source": [
    "from sklearn.feature_selection import chi2\n",
    "import numpy as np\n",
    "\n",
    "labels=['corrective','features','perfective','nonfunctional','unknown']\n",
    "top_unigrams=[]\n",
    "top_bigrams=[]\n",
    "\n",
    "for label in labels:    \n",
    "    chi2_per_feature = chi2(x_vect_train, [y==label for y in y_train] ) #gives 2 arrays of n-features dimension, array0 chi2 (our interest) array1 p-value\n",
    "    indices = np.argsort(chi2_per_feature[0])\n",
    "    feature_names = np.array(text_transformer.get_feature_names())[indices] #getting corrisponding feature names indifferently unigrams and bigrams\n",
    "    #split unigrams-bigrams\n",
    "    unigrams = [feat for feat in feature_names if len(feat.split(' ')) == 1]\n",
    "    bigrams = [feat for feat in feature_names if len(feat.split(' ')) == 2]\n",
    "    top_unigrams.append(unigrams[-2:]) #top2\n",
    "    top_bigrams.append(bigrams[-2:]) \n",
    "    \n",
    "top_features_df=pd.DataFrame()\n",
    "top_features_df['Labels']=labels\n",
    "top_features_df['Unigrams']=top_unigrams\n",
    "top_features_df['Bigrams']=top_bigrams\n",
    "top_features_df\n"
   ]
  },
  {
   "attachments": {
    "Screenshot%202022-01-25%20151433.png": {
     "image/png": "[encoded data removed]"
    }
   },
   "cell_type": "markdown",
   "id": "b53e6d78",
   "metadata": {},
   "source": [
    "![figures/most_correlated_terms_per_label_comparison.png](attachment:Screenshot%202022-01-25%20151433.png)"
   ]
  },
  {
   "cell_type": "markdown",
   "id": "cec6968a",
   "metadata": {},
   "source": [
    "<a id='models'></a>\n",
    "## Classification baseline models definition"
   ]
  },
  {
   "cell_type": "markdown",
   "id": "07767882",
   "metadata": {},
   "source": [
    "Inizialization of five different models based on different supervised learning algorithms:\n",
    "\n",
    "> - Logistic Regression: it uses the logistic (sigmoid) mathematical function to estimate the parameter values. These are the coefficients of all our features such that the overall loss is minimized when predicting the outcome/class. The maximum likelihood estimation (MLE) framework is at play in trying to fit the model to the data.\n",
    "> - Random Forest Classifier: a meta estimator (it is an ensamble learning method) that fits a number of decision tree classifiers on various sub-samples of the dataset and uses averaging to improve the predictive accuracy and control over-fitting.\n",
    "> - Multinomial Naive Bayes classifier: it is a probabilistic learning method that mostly used in NLP. The algorithm is based on the Bayes theorem and predicts the tag of a text such as a piece of email or newspaper article. It calculates the probability of each tag for a given sample and then gives the tag with the highest probability as output. The naive assumption consists in considering each feature independent from the others. \n",
    "> - Linear Support Vector Classifier: it represents the training data samples as points in space such that points belonging to either class can be separated by a wide gap between them (hyperplane) and the new data points to be predicted are assigned classes based on which side of this hyperplane they fall into. \n",
    "> - Decision Tree Classifier: the algorithm uses training data to create rules that can be represented by a tree structure. Like any other tree representation, it has a root node, internal nodes, and leaf nodes. The internal node represents condition on attributes, the branches represent the results of the condition and the leaf node represents the class label.\n"
   ]
  },
  {
   "cell_type": "code",
   "execution_count": 14,
   "id": "ef33ee44",
   "metadata": {},
   "outputs": [
    {
     "data": {
      "text/html": [
       "<div>\n",
       "<style scoped>\n",
       "    .dataframe tbody tr th:only-of-type {\n",
       "        vertical-align: middle;\n",
       "    }\n",
       "\n",
       "    .dataframe tbody tr th {\n",
       "        vertical-align: top;\n",
       "    }\n",
       "\n",
       "    .dataframe thead th {\n",
       "        text-align: right;\n",
       "    }\n",
       "</style>\n",
       "<table border=\"1\" class=\"dataframe\">\n",
       "  <thead>\n",
       "    <tr style=\"text-align: right;\">\n",
       "      <th></th>\n",
       "      <th>Models reference</th>\n",
       "      <th>Model object</th>\n",
       "    </tr>\n",
       "  </thead>\n",
       "  <tbody>\n",
       "    <tr>\n",
       "      <th>0</th>\n",
       "      <td>LR</td>\n",
       "      <td>LogisticRegression()</td>\n",
       "    </tr>\n",
       "    <tr>\n",
       "      <th>1</th>\n",
       "      <td>RF</td>\n",
       "      <td>RandomForestClassifier()</td>\n",
       "    </tr>\n",
       "    <tr>\n",
       "      <th>2</th>\n",
       "      <td>NB</td>\n",
       "      <td>MultinomialNB()</td>\n",
       "    </tr>\n",
       "    <tr>\n",
       "      <th>3</th>\n",
       "      <td>SVC</td>\n",
       "      <td>LinearSVC()</td>\n",
       "    </tr>\n",
       "    <tr>\n",
       "      <th>4</th>\n",
       "      <td>CART</td>\n",
       "      <td>DecisionTreeClassifier()</td>\n",
       "    </tr>\n",
       "  </tbody>\n",
       "</table>\n",
       "</div>"
      ],
      "text/plain": [
       "  Models reference              Model object\n",
       "0               LR      LogisticRegression()\n",
       "1               RF  RandomForestClassifier()\n",
       "2               NB           MultinomialNB()\n",
       "3              SVC               LinearSVC()\n",
       "4             CART  DecisionTreeClassifier()"
      ]
     },
     "execution_count": 14,
     "metadata": {},
     "output_type": "execute_result"
    }
   ],
   "source": [
    "from sklearn.linear_model import LogisticRegression\n",
    "from sklearn.ensemble import RandomForestClassifier\n",
    "from sklearn.naive_bayes import MultinomialNB\n",
    "from sklearn.svm import LinearSVC\n",
    "from sklearn.tree import DecisionTreeClassifier\n",
    "\n",
    "LR = LogisticRegression() #plain vanilla, standard hyperparameters\n",
    "RF = RandomForestClassifier()\n",
    "NB = MultinomialNB()\n",
    "SVC = LinearSVC()\n",
    "CART = DecisionTreeClassifier()\n",
    "\n",
    "models_df=pd.DataFrame()\n",
    "models_df['Models reference']=['LR','RF','NB','SVC','CART']  ##rather than column put it as index\n",
    "models_df['Model object']=[LR,RF,NB,SVC,CART]\n",
    "models_df"
   ]
  },
  {
   "cell_type": "markdown",
   "id": "6ef9b863",
   "metadata": {},
   "source": [
    "<a id='cv_val'></a>\n",
    "## CV score \"pre-evaluation\""
   ]
  },
  {
   "cell_type": "markdown",
   "id": "6402efe6",
   "metadata": {},
   "source": [
    "Testing the predictive ability of each model through 5-fold cross-validation (data is splitted in 5, 4 taken as training and the other as test each of the 5 iterations) with 5 repetitions.\n",
    "\n",
    "The metric used to evaluate the performance is the `F-measure` (F1-score). It takes into account both precision and recall, by computing their harmonic mean, which is given by the formula: `F1-score = 2 × (precision × recall)/(precision + recall)`.\n",
    "The `f1_macro` is computed for each class then it's macro-averaged equally weighting each class, this is done to counteract the possible imbalance of the classes (another way possible way? oversampling/undersampling the classes).\n",
    "\n",
    "Note that if the hypothesis taken into account is that the distribution of the labels in the labelled dataset is representative of the \"real commits world\" we could use `f1_weighted`, which computed the f-measure average weighted by support (the number of true instances for each label)"
   ]
  },
  {
   "cell_type": "code",
   "execution_count": 15,
   "id": "4ccb0ae5",
   "metadata": {
    "scrolled": false
   },
   "outputs": [
    {
     "data": {
      "text/html": [
       "<div>\n",
       "<style scoped>\n",
       "    .dataframe tbody tr th:only-of-type {\n",
       "        vertical-align: middle;\n",
       "    }\n",
       "\n",
       "    .dataframe tbody tr th {\n",
       "        vertical-align: top;\n",
       "    }\n",
       "\n",
       "    .dataframe thead th {\n",
       "        text-align: right;\n",
       "    }\n",
       "</style>\n",
       "<table border=\"1\" class=\"dataframe\">\n",
       "  <thead>\n",
       "    <tr style=\"text-align: right;\">\n",
       "      <th></th>\n",
       "      <th>Models reference</th>\n",
       "      <th>Model object</th>\n",
       "      <th>F-measures</th>\n",
       "    </tr>\n",
       "  </thead>\n",
       "  <tbody>\n",
       "    <tr>\n",
       "      <th>0</th>\n",
       "      <td>LR</td>\n",
       "      <td>LogisticRegression()</td>\n",
       "      <td>0.893572</td>\n",
       "    </tr>\n",
       "    <tr>\n",
       "      <th>1</th>\n",
       "      <td>RF</td>\n",
       "      <td>RandomForestClassifier()</td>\n",
       "      <td>0.900004</td>\n",
       "    </tr>\n",
       "    <tr>\n",
       "      <th>2</th>\n",
       "      <td>NB</td>\n",
       "      <td>MultinomialNB()</td>\n",
       "      <td>0.808694</td>\n",
       "    </tr>\n",
       "    <tr>\n",
       "      <th>3</th>\n",
       "      <td>SVC</td>\n",
       "      <td>LinearSVC()</td>\n",
       "      <td>0.905700</td>\n",
       "    </tr>\n",
       "    <tr>\n",
       "      <th>4</th>\n",
       "      <td>CART</td>\n",
       "      <td>DecisionTreeClassifier()</td>\n",
       "      <td>0.892561</td>\n",
       "    </tr>\n",
       "  </tbody>\n",
       "</table>\n",
       "</div>"
      ],
      "text/plain": [
       "  Models reference              Model object  F-measures\n",
       "0               LR      LogisticRegression()    0.893572\n",
       "1               RF  RandomForestClassifier()    0.900004\n",
       "2               NB           MultinomialNB()    0.808694\n",
       "3              SVC               LinearSVC()    0.905700\n",
       "4             CART  DecisionTreeClassifier()    0.892561"
      ]
     },
     "execution_count": 15,
     "metadata": {},
     "output_type": "execute_result"
    },
    {
     "data": {
      "image/png": "[encoded data removed]",
      "text/plain": [
       "<Figure size 432x288 with 1 Axes>"
      ]
     },
     "metadata": {
      "needs_background": "light"
     },
     "output_type": "display_data"
    }
   ],
   "source": [
    "from sklearn.model_selection import cross_val_score, KFold, RepeatedKFold, StratifiedKFold\n",
    "import numpy as np\n",
    "\n",
    "rkf = RepeatedKFold(n_splits=5, n_repeats=5, random_state=77)\n",
    "\n",
    "scores=[]\n",
    "\n",
    "for model in models_df['Model object'].tolist() :\n",
    "    cv_results = cross_val_score(model, x_vect_train, y_train, cv=rkf, scoring='f1_macro')\n",
    "    scores.append(np.mean(cv_results))\n",
    "\n",
    "models_df['F-measures']=scores\n",
    "\n",
    "models_df.sort_values(by=['F-measures']).plot.barh(y='F-measures', x='Models reference'); \n",
    "plt.savefig('../figures/classic_random_models_performance', dpi=300); models_df \n"
   ]
  },
  {
   "cell_type": "markdown",
   "id": "9ce20980",
   "metadata": {},
   "source": [
    "<a id='logit_tuning'></a>\n",
    "## Logit tuning"
   ]
  },
  {
   "cell_type": "markdown",
   "id": "2a12f654",
   "metadata": {},
   "source": [
    "Searching in the hyperparameters space of the Logit model the best value for the hyperparameter C. A set of possible parameters is defined in `grid['C']`. Amongst the proposed values, the one that allows to achieve the best F-measure is reported."
   ]
  },
  {
   "cell_type": "code",
   "execution_count": 16,
   "id": "836796ac",
   "metadata": {},
   "outputs": [],
   "source": [
    "from sklearn.model_selection import GridSearchCV"
   ]
  },
  {
   "cell_type": "code",
   "execution_count": 17,
   "id": "2e770e2b",
   "metadata": {},
   "outputs": [
    {
     "name": "stdout",
     "output_type": "stream",
     "text": [
      "Best hyperparamters {'C': 10}\n",
      "F-measure : 0.9050403860190513\n"
     ]
    }
   ],
   "source": [
    "grid = dict()\n",
    "grid['C'] = [0.5,1,3,4,5,7,8,10]\n",
    "tune_LR=LogisticRegression(max_iter=1000) #max_iter set to 1000 to avoid convergence error\n",
    "gs_tune_LR=GridSearchCV(tune_LR,grid,cv=rkf,scoring=\"f1_macro\")\n",
    "gs_tune_LR.fit(x_vect_train,y_train)\n",
    "\n",
    "print(\"Best hyperparamters\", gs_tune_LR.best_params_)\n",
    "print(\"F-measure :\",gs_tune_LR.best_score_)"
   ]
  },
  {
   "cell_type": "markdown",
   "id": "6dd424a6",
   "metadata": {},
   "source": [
    "<a id='logit_final_ev'></a>\n",
    "## Logit final evaluation"
   ]
  },
  {
   "cell_type": "markdown",
   "id": "b653dbb7",
   "metadata": {},
   "source": [
    "Creating the model object with the hyperparameters found and fitting it to the training dataset:"
   ]
  },
  {
   "cell_type": "code",
   "execution_count": 18,
   "id": "61197fb6",
   "metadata": {
    "scrolled": true
   },
   "outputs": [],
   "source": [
    "LR_final=LogisticRegression(C=10, max_iter=1000)\n",
    "LR_final.fit(x_vect_train, y_train);"
   ]
  },
  {
   "cell_type": "markdown",
   "id": "1110e843",
   "metadata": {},
   "source": [
    "Predicting the values of the test set"
   ]
  },
  {
   "cell_type": "code",
   "execution_count": 19,
   "id": "9ffef402",
   "metadata": {},
   "outputs": [],
   "source": [
    "y_test_pred=LR_final.predict(x_test_vect)"
   ]
  },
  {
   "cell_type": "markdown",
   "id": "2d191b60",
   "metadata": {},
   "source": [
    "Final evaluation of the performance through the F-measure on the test set, kept apart the training process until now"
   ]
  },
  {
   "cell_type": "code",
   "execution_count": 20,
   "id": "b28459c6",
   "metadata": {},
   "outputs": [
    {
     "name": "stdout",
     "output_type": "stream",
     "text": [
      "F-measure: 0.9135718396987802\n"
     ]
    }
   ],
   "source": [
    "from sklearn.metrics import f1_score\n",
    "\n",
    "print(\"F-measure:\",f1_score(y_test_pred,y_test, average=\"macro\"))"
   ]
  },
  {
   "cell_type": "markdown",
   "id": "4f1c065d",
   "metadata": {},
   "source": [
    "#### Plotting the confusion matrix:\n",
    "Really useful to have a look at the predicted labels against the actual labels. It is possible to see for a certain label the number of correct guesses and how (quantitevely) it's confused for which other label."
   ]
  },
  {
   "cell_type": "code",
   "execution_count": 21,
   "id": "6afcb390",
   "metadata": {
    "scrolled": false
   },
   "outputs": [
    {
     "data": {
      "image/png": "[encoded data removed]",
      "text/plain": [
       "<Figure size 432x432 with 1 Axes>"
      ]
     },
     "metadata": {
      "needs_background": "light"
     },
     "output_type": "display_data"
    }
   ],
   "source": [
    "from sklearn.metrics import confusion_matrix\n",
    "\n",
    "cm = confusion_matrix(y_test, y_test_pred)\n",
    "\n",
    "fig = plt.figure(figsize=(6,6))\n",
    "ax = fig.add_subplot()\n",
    "ax = sns.heatmap(cm, annot=True, cmap='Blues', cbar=False, fmt=\"d\") #Annotate each cell with the numeric value using integer formatting\n",
    "ax.set_title('\\n\\n Logit final model confusion matrix on test set\\n', fontweight='bold');\n",
    "ax.set_xlabel('\\nPredicted labels',fontweight='bold')\n",
    "ax.set_ylabel('Actual labels\\n',fontweight='bold');\n",
    "ax.xaxis.set_ticklabels(['corrective', 'features', 'non functional', 'perfective', 'unknown']);\n",
    "ax.yaxis.set_ticklabels(['corrective', 'features', 'non functional', 'perfective', 'unknown']);\n",
    "plt.savefig('../figures/logit_confusion_matrix')\n"
   ]
  },
  {
   "cell_type": "markdown",
   "id": "c1d96d4e",
   "metadata": {},
   "source": [
    "It is possible to observe that the class unknown that got the fewer example in the training dataset is very well predicted in the test dataset with an accuracy of 57/58. (The concern was that maybe it could be treated as a outlier in the learning process with the outcome of poor prediction in the test dataset) "
   ]
  },
  {
   "cell_type": "markdown",
   "id": "f0b25d69",
   "metadata": {},
   "source": [
    "Saving the training model:"
   ]
  },
  {
   "cell_type": "code",
   "execution_count": 22,
   "id": "bbfb181c",
   "metadata": {},
   "outputs": [],
   "source": [
    "import pickle\n",
    "\n",
    "with open('../results/Classic_LR_final_model.pkl', 'wb') as fid:\n",
    "    pickle.dump(LR_final, fid)"
   ]
  },
  {
   "cell_type": "markdown",
   "id": "da5a1af1",
   "metadata": {},
   "source": [
    "<a id='fasttext'></a>\n",
    "# Fasttext model \n",
    "\n",
    "FastText is an open-source, free library from Facebook AI Research (FAIR) for learning word embeddings and word classifications. It proposes a state-of-the-art NLP algorithm, it relies on the skip-gram model, where each word is represented as a bag of character n-grams. Then, the vector representation is associated with each character n-gram, and these words are basically the sum of these representations. It allows the model to compute representations for words that did not appear in\n",
    "the training data. At the core featurized text is still feeded to a classic linear classifier, the multinomial logistic regression."
   ]
  },
  {
   "cell_type": "markdown",
   "id": "554335df",
   "metadata": {},
   "source": [
    "Keeping the same dataset split and pre-cleaning as the one utilized in classic models"
   ]
  },
  {
   "cell_type": "markdown",
   "id": "bbe1ea9c",
   "metadata": {},
   "source": [
    "Re-adding \"\\_\\_\\_label\\___\" before every label as fasttext demands:"
   ]
  },
  {
   "cell_type": "code",
   "execution_count": 23,
   "id": "d413d83d",
   "metadata": {
    "scrolled": true
   },
   "outputs": [
    {
     "data": {
      "text/plain": [
       "['__label__perfective',\n",
       " '__label__nonfunctional',\n",
       " '__label__features',\n",
       " '__label__perfective',\n",
       " '__label__features',\n",
       " '__label__corrective',\n",
       " '__label__nonfunctional']"
      ]
     },
     "execution_count": 23,
     "metadata": {},
     "output_type": "execute_result"
    }
   ],
   "source": [
    "_y_train=[]\n",
    "for y in y_train:\n",
    "    _y_train.append(\"__label__\"+y)\n",
    "\n",
    "_y_test=[]\n",
    "for y in y_test:\n",
    "    _y_test.append(\"__label__\"+y)\n",
    "_y_train\n",
    "\n",
    "_y_train[:7] "
   ]
  },
  {
   "cell_type": "markdown",
   "id": "85eed9e2",
   "metadata": {},
   "source": [
    "Creating dataframe with training data and saving it as txt"
   ]
  },
  {
   "cell_type": "code",
   "execution_count": 24,
   "id": "63738993",
   "metadata": {
    "scrolled": true
   },
   "outputs": [],
   "source": [
    "_df=pd.DataFrame()\n",
    "_df['y_train']=_y_train\n",
    "_df['x_train']=x_train\n",
    "np.savetxt('../results/commits_train_fasttext.txt', _df.values, fmt='%s')\n",
    "\n",
    "_df_test=pd.DataFrame()\n",
    "_df_test['_y_test']=_y_test\n",
    "_df_test['x_test']=x_test\n",
    "np.savetxt('../results/commits_test_fasttext.txt', _df_test.values, fmt='%s')"
   ]
  },
  {
   "cell_type": "markdown",
   "id": "ec601c1e",
   "metadata": {},
   "source": [
    "The fasttext python module builds only on Mac OS and Linux. Have a look at [this](https://medium.com/@oleg.tarasov/building-fasttext-python-wrapper-from-source-under-windows-68e693a68cbb) to make it work under windows "
   ]
  },
  {
   "cell_type": "code",
   "execution_count": 25,
   "id": "3973b2cd",
   "metadata": {},
   "outputs": [],
   "source": [
    "import fasttext "
   ]
  },
  {
   "cell_type": "markdown",
   "id": "92d4b812",
   "metadata": {},
   "source": [
    "Training the fasttext model feeding the training data.\n",
    "<br />\n",
    "Using the `autotuneValidationFile` option to automcatically optimize the hyperparameters based on the f1-score performance on the test dataset"
   ]
  },
  {
   "cell_type": "code",
   "execution_count": 26,
   "id": "50a08855",
   "metadata": {},
   "outputs": [],
   "source": [
    "fasttext_model = fasttext.train_supervised('../results/commits_train_fasttext.txt', autotuneValidationFile='../results/commits_test_fasttext.txt', verbose=3)"
   ]
  },
  {
   "cell_type": "markdown",
   "id": "3304fea0",
   "metadata": {},
   "source": [
    "Getting all the predictions in a list"
   ]
  },
  {
   "cell_type": "code",
   "execution_count": 27,
   "id": "b5550a99",
   "metadata": {},
   "outputs": [
    {
     "data": {
      "text/plain": [
       "[(('__label__features',), array([1.00001001])),\n",
       " (('__label__nonfunctional',), array([1.00000477])),\n",
       " (('__label__perfective',), array([0.98517072])),\n",
       " (('__label__nonfunctional',), array([1.00001001])),\n",
       " (('__label__corrective',), array([1.00001001]))]"
      ]
     },
     "execution_count": 27,
     "metadata": {},
     "output_type": "execute_result"
    }
   ],
   "source": [
    "y_pred_raw=[]\n",
    "for i in x_test:\n",
    "    y_pred_raw.append(fasttext_model.predict(i))\n",
    "y_pred_raw[:5]"
   ]
  },
  {
   "cell_type": "markdown",
   "id": "60507bb5",
   "metadata": {},
   "source": [
    "Getting a clean list"
   ]
  },
  {
   "cell_type": "code",
   "execution_count": 28,
   "id": "78b67cdd",
   "metadata": {},
   "outputs": [
    {
     "data": {
      "text/plain": [
       "['__label__features',\n",
       " '__label__nonfunctional',\n",
       " '__label__perfective',\n",
       " '__label__nonfunctional',\n",
       " '__label__corrective']"
      ]
     },
     "execution_count": 28,
     "metadata": {},
     "output_type": "execute_result"
    }
   ],
   "source": [
    "y_pred_clean=[]\n",
    "for i in y_pred_raw:\n",
    "    y_pred_clean.append(i[0][0])\n",
    "y_pred_clean[:5]\n"
   ]
  },
  {
   "cell_type": "code",
   "execution_count": 29,
   "id": "835e57b6",
   "metadata": {
    "scrolled": true
   },
   "outputs": [
    {
     "name": "stdout",
     "output_type": "stream",
     "text": [
      "Fasttext model F-measure performance on the test dataset: 0.9248571765657921\n"
     ]
    }
   ],
   "source": [
    "from sklearn.metrics import f1_score\n",
    "print(\"Fasttext model F-measure performance on the test dataset:\",f1_score(_y_test , y_pred_clean, average=\"macro\"))"
   ]
  },
  {
   "cell_type": "markdown",
   "id": "3e1c7472",
   "metadata": {},
   "source": [
    "Saving the trained model:"
   ]
  },
  {
   "cell_type": "code",
   "execution_count": 30,
   "id": "7c1ad7be",
   "metadata": {},
   "outputs": [],
   "source": [
    "fasttext_model.save_model(\"../results/fasttext_trained.bin\")"
   ]
  },
  {
   "cell_type": "markdown",
   "id": "678e0a4c",
   "metadata": {},
   "source": [
    "<a id='observations'></a>\n",
    "# Observations"
   ]
  },
  {
   "cell_type": "markdown",
   "id": "03c13090",
   "metadata": {},
   "source": [
    "- **Scarce standard text preprocessing**: the cleaning of the text messagges was poor. For example, no lemmatization was carried out. This could be threating at least for the efficiency of the process.\n",
    "- **Special further text preprocessing** both on the labelled dataset and on non-labelled datasets before relative training and prediction to address frequent typos and mispelling by programmers with classic models (trying to reconstruct words). This is taken into account with fasttext model\n",
    "- **Bigram consideration with TFIDF vectorization**: the bigrams are taken into account, but in a classfication task like commit classification, the real order of the words in the commit messages doesn't really contain valuable information. This can be proved by the fact that considering only unigrams does not change the results.\n",
    "- **Multilabel classification** sometimes a commit can't be properly considered undear a single-simple label because it does equally different things to the code. So it may be useful working on a model which assign more labels (2) (or a %) to each commit if there's not a strong decision on its class (probability of the commit belonging to a specific label is not strong). \n",
    "- **Paper classic random models performances** Are 15/20 % worse in the paper than in the project, results similar to the paper could be obtained by drastically reducing the max features considered in vectorizing/featurizing the messages with TFIDF to 50/60, but this seems no-sense. "
   ]
  }
 ],
 "metadata": {
  "kernelspec": {
   "display_name": "Python 3",
   "language": "python",
   "name": "python3"
  },
  "language_info": {
   "codemirror_mode": {
    "name": "ipython",
    "version": 3
   },
   "file_extension": ".py",
   "mimetype": "text/x-python",
   "name": "python",
   "nbconvert_exporter": "python",
   "pygments_lexer": "ipython3",
   "version": "3.6.13"
  }
 },
 "nbformat": 4,
 "nbformat_minor": 5
}
